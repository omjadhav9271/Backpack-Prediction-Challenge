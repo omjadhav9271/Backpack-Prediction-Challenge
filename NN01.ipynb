{
 "cells": [
  {
   "cell_type": "code",
   "execution_count": 1,
   "metadata": {},
   "outputs": [],
   "source": [
    "import pandas as pd\n",
    "import numpy as np\n",
    "from sklearn.model_selection import train_test_split\n",
    "from sklearn.preprocessing import LabelEncoder, StandardScaler\n",
    "from sklearn.metrics import mean_squared_error\n",
    "from tensorflow import keras"
   ]
  },
  {
   "cell_type": "code",
   "execution_count": 2,
   "metadata": {},
   "outputs": [],
   "source": [
    "# Load datasets\n",
    "train_df = pd.read_csv(\"train.csv\")\n",
    "test_df = pd.read_csv(\"test.csv\")"
   ]
  },
  {
   "cell_type": "code",
   "execution_count": 3,
   "metadata": {},
   "outputs": [],
   "source": [
    "# Handle missing values\n",
    "train_df.fillna(train_df.mode().iloc[0], inplace=True)\n",
    "test_df.fillna(test_df.mode().iloc[0], inplace=True)"
   ]
  },
  {
   "cell_type": "code",
   "execution_count": 4,
   "metadata": {},
   "outputs": [],
   "source": [
    "# Encode categorical features\n",
    "encoder = LabelEncoder()\n",
    "categorical_cols = ['Brand', 'Material', 'Size', 'Laptop Compartment', 'Waterproof', 'Style', 'Color']\n",
    "\n",
    "for col in categorical_cols:\n",
    "    train_df[col] = encoder.fit_transform(train_df[col])\n",
    "    test_df[col] = encoder.transform(test_df[col])"
   ]
  },
  {
   "cell_type": "code",
   "execution_count": 5,
   "metadata": {},
   "outputs": [],
   "source": [
    "# Selecting features and target\n",
    "X = train_df.drop(columns=['id', 'Price'])\n",
    "y = train_df['Price']"
   ]
  },
  {
   "cell_type": "code",
   "execution_count": 6,
   "metadata": {},
   "outputs": [],
   "source": [
    "# Normalize the features\n",
    "scaler = StandardScaler()\n",
    "X = scaler.fit_transform(X)\n",
    "test_X = scaler.transform(test_df.drop(columns=['id']))\n",
    "\n",
    "X_train, X_val, y_train, y_val = train_test_split(X, y, test_size=0.2, random_state=42)"
   ]
  },
  {
   "cell_type": "code",
   "execution_count": 7,
   "metadata": {},
   "outputs": [
    {
     "name": "stderr",
     "output_type": "stream",
     "text": [
      "d:\\Resume Projects\\Backpack Prediction Challenge\\.venv\\Lib\\site-packages\\keras\\src\\layers\\core\\dense.py:87: UserWarning: Do not pass an `input_shape`/`input_dim` argument to a layer. When using Sequential models, prefer using an `Input(shape)` object as the first layer in the model instead.\n",
      "  super().__init__(activity_regularizer=activity_regularizer, **kwargs)\n"
     ]
    }
   ],
   "source": [
    "# Define Neural Network Model\n",
    "model = keras.Sequential([\n",
    "    keras.layers.Dense(128, activation='relu', input_shape=(X_train.shape[1],)),\n",
    "    keras.layers.Dense(64, activation='relu'),\n",
    "    keras.layers.Dense(32, activation='relu'),\n",
    "    keras.layers.Dense(1)\n",
    "])\n",
    "model.compile(optimizer='adam', loss='mse', metrics=['mae'])"
   ]
  },
  {
   "cell_type": "code",
   "execution_count": 8,
   "metadata": {},
   "outputs": [
    {
     "name": "stdout",
     "output_type": "stream",
     "text": [
      "Epoch 1/100\n",
      "\u001b[1m7500/7500\u001b[0m \u001b[32m━━━━━━━━━━━━━━━━━━━━\u001b[0m\u001b[37m\u001b[0m \u001b[1m12s\u001b[0m 1ms/step - loss: 1840.9917 - mae: 36.1172 - val_loss: 1552.2013 - val_mae: 33.9858\n",
      "Epoch 2/100\n",
      "\u001b[1m7500/7500\u001b[0m \u001b[32m━━━━━━━━━━━━━━━━━━━━\u001b[0m\u001b[37m\u001b[0m \u001b[1m11s\u001b[0m 2ms/step - loss: 1537.5852 - mae: 33.9064 - val_loss: 1524.7400 - val_mae: 33.7308\n",
      "Epoch 3/100\n",
      "\u001b[1m7500/7500\u001b[0m \u001b[32m━━━━━━━━━━━━━━━━━━━━\u001b[0m\u001b[37m\u001b[0m \u001b[1m12s\u001b[0m 2ms/step - loss: 1539.0073 - mae: 33.9325 - val_loss: 1525.6244 - val_mae: 33.7465\n",
      "Epoch 4/100\n",
      "\u001b[1m7500/7500\u001b[0m \u001b[32m━━━━━━━━━━━━━━━━━━━━\u001b[0m\u001b[37m\u001b[0m \u001b[1m12s\u001b[0m 2ms/step - loss: 1530.6329 - mae: 33.8295 - val_loss: 1532.4406 - val_mae: 33.7754\n",
      "Epoch 5/100\n",
      "\u001b[1m7500/7500\u001b[0m \u001b[32m━━━━━━━━━━━━━━━━━━━━\u001b[0m\u001b[37m\u001b[0m \u001b[1m12s\u001b[0m 2ms/step - loss: 1536.8007 - mae: 33.9099 - val_loss: 1525.4061 - val_mae: 33.7126\n",
      "Epoch 6/100\n",
      "\u001b[1m7500/7500\u001b[0m \u001b[32m━━━━━━━━━━━━━━━━━━━━\u001b[0m\u001b[37m\u001b[0m \u001b[1m12s\u001b[0m 2ms/step - loss: 1530.5171 - mae: 33.8347 - val_loss: 1521.5469 - val_mae: 33.7114\n",
      "Epoch 7/100\n",
      "\u001b[1m7500/7500\u001b[0m \u001b[32m━━━━━━━━━━━━━━━━━━━━\u001b[0m\u001b[37m\u001b[0m \u001b[1m12s\u001b[0m 2ms/step - loss: 1531.8534 - mae: 33.8652 - val_loss: 1524.9539 - val_mae: 33.7521\n",
      "Epoch 8/100\n",
      "\u001b[1m7500/7500\u001b[0m \u001b[32m━━━━━━━━━━━━━━━━━━━━\u001b[0m\u001b[37m\u001b[0m \u001b[1m13s\u001b[0m 2ms/step - loss: 1533.8478 - mae: 33.8698 - val_loss: 1518.7612 - val_mae: 33.6706\n",
      "Epoch 9/100\n",
      "\u001b[1m7500/7500\u001b[0m \u001b[32m━━━━━━━━━━━━━━━━━━━━\u001b[0m\u001b[37m\u001b[0m \u001b[1m12s\u001b[0m 2ms/step - loss: 1532.4910 - mae: 33.8728 - val_loss: 1521.8107 - val_mae: 33.7049\n",
      "Epoch 10/100\n",
      "\u001b[1m7500/7500\u001b[0m \u001b[32m━━━━━━━━━━━━━━━━━━━━\u001b[0m\u001b[37m\u001b[0m \u001b[1m12s\u001b[0m 2ms/step - loss: 1528.3101 - mae: 33.8069 - val_loss: 1532.4291 - val_mae: 33.8140\n",
      "Epoch 11/100\n",
      "\u001b[1m7500/7500\u001b[0m \u001b[32m━━━━━━━━━━━━━━━━━━━━\u001b[0m\u001b[37m\u001b[0m \u001b[1m12s\u001b[0m 2ms/step - loss: 1529.6069 - mae: 33.8328 - val_loss: 1518.7264 - val_mae: 33.6909\n",
      "Epoch 12/100\n",
      "\u001b[1m7500/7500\u001b[0m \u001b[32m━━━━━━━━━━━━━━━━━━━━\u001b[0m\u001b[37m\u001b[0m \u001b[1m12s\u001b[0m 2ms/step - loss: 1528.9706 - mae: 33.8245 - val_loss: 1522.5559 - val_mae: 33.7019\n",
      "Epoch 13/100\n",
      "\u001b[1m7500/7500\u001b[0m \u001b[32m━━━━━━━━━━━━━━━━━━━━\u001b[0m\u001b[37m\u001b[0m \u001b[1m12s\u001b[0m 2ms/step - loss: 1531.8633 - mae: 33.8737 - val_loss: 1526.4003 - val_mae: 33.7670\n",
      "Epoch 14/100\n",
      "\u001b[1m7500/7500\u001b[0m \u001b[32m━━━━━━━━━━━━━━━━━━━━\u001b[0m\u001b[37m\u001b[0m \u001b[1m12s\u001b[0m 2ms/step - loss: 1531.2775 - mae: 33.8664 - val_loss: 1520.4779 - val_mae: 33.6973\n",
      "Epoch 15/100\n",
      "\u001b[1m7500/7500\u001b[0m \u001b[32m━━━━━━━━━━━━━━━━━━━━\u001b[0m\u001b[37m\u001b[0m \u001b[1m12s\u001b[0m 2ms/step - loss: 1534.1500 - mae: 33.9144 - val_loss: 1517.8546 - val_mae: 33.6745\n",
      "Epoch 16/100\n",
      "\u001b[1m7500/7500\u001b[0m \u001b[32m━━━━━━━━━━━━━━━━━━━━\u001b[0m\u001b[37m\u001b[0m \u001b[1m12s\u001b[0m 2ms/step - loss: 1532.2334 - mae: 33.8957 - val_loss: 1521.6635 - val_mae: 33.7137\n",
      "Epoch 17/100\n",
      "\u001b[1m7500/7500\u001b[0m \u001b[32m━━━━━━━━━━━━━━━━━━━━\u001b[0m\u001b[37m\u001b[0m \u001b[1m12s\u001b[0m 2ms/step - loss: 1529.3430 - mae: 33.8193 - val_loss: 1522.5885 - val_mae: 33.7351\n",
      "Epoch 18/100\n",
      "\u001b[1m7500/7500\u001b[0m \u001b[32m━━━━━━━━━━━━━━━━━━━━\u001b[0m\u001b[37m\u001b[0m \u001b[1m12s\u001b[0m 2ms/step - loss: 1530.5110 - mae: 33.8704 - val_loss: 1523.3241 - val_mae: 33.7232\n",
      "Epoch 19/100\n",
      "\u001b[1m7500/7500\u001b[0m \u001b[32m━━━━━━━━━━━━━━━━━━━━\u001b[0m\u001b[37m\u001b[0m \u001b[1m12s\u001b[0m 2ms/step - loss: 1527.8960 - mae: 33.8005 - val_loss: 1518.1583 - val_mae: 33.6794\n",
      "Epoch 20/100\n",
      "\u001b[1m7500/7500\u001b[0m \u001b[32m━━━━━━━━━━━━━━━━━━━━\u001b[0m\u001b[37m\u001b[0m \u001b[1m12s\u001b[0m 2ms/step - loss: 1529.2010 - mae: 33.8498 - val_loss: 1521.7720 - val_mae: 33.6944\n",
      "Epoch 21/100\n",
      "\u001b[1m7500/7500\u001b[0m \u001b[32m━━━━━━━━━━━━━━━━━━━━\u001b[0m\u001b[37m\u001b[0m \u001b[1m12s\u001b[0m 2ms/step - loss: 1522.7740 - mae: 33.7375 - val_loss: 1518.3575 - val_mae: 33.6828\n",
      "Epoch 22/100\n",
      "\u001b[1m7500/7500\u001b[0m \u001b[32m━━━━━━━━━━━━━━━━━━━━\u001b[0m\u001b[37m\u001b[0m \u001b[1m12s\u001b[0m 2ms/step - loss: 1528.3314 - mae: 33.8347 - val_loss: 1525.5122 - val_mae: 33.7549\n",
      "Epoch 23/100\n",
      "\u001b[1m7500/7500\u001b[0m \u001b[32m━━━━━━━━━━━━━━━━━━━━\u001b[0m\u001b[37m\u001b[0m \u001b[1m13s\u001b[0m 2ms/step - loss: 1527.6028 - mae: 33.8209 - val_loss: 1520.3652 - val_mae: 33.7085\n",
      "Epoch 24/100\n",
      "\u001b[1m7500/7500\u001b[0m \u001b[32m━━━━━━━━━━━━━━━━━━━━\u001b[0m\u001b[37m\u001b[0m \u001b[1m12s\u001b[0m 2ms/step - loss: 1525.5316 - mae: 33.7857 - val_loss: 1533.1608 - val_mae: 33.7711\n",
      "Epoch 25/100\n",
      "\u001b[1m7500/7500\u001b[0m \u001b[32m━━━━━━━━━━━━━━━━━━━━\u001b[0m\u001b[37m\u001b[0m \u001b[1m12s\u001b[0m 2ms/step - loss: 1527.9908 - mae: 33.8239 - val_loss: 1525.9812 - val_mae: 33.7630\n",
      "Epoch 26/100\n",
      "\u001b[1m7500/7500\u001b[0m \u001b[32m━━━━━━━━━━━━━━━━━━━━\u001b[0m\u001b[37m\u001b[0m \u001b[1m12s\u001b[0m 2ms/step - loss: 1529.6644 - mae: 33.8649 - val_loss: 1518.0758 - val_mae: 33.6686\n",
      "Epoch 27/100\n",
      "\u001b[1m7500/7500\u001b[0m \u001b[32m━━━━━━━━━━━━━━━━━━━━\u001b[0m\u001b[37m\u001b[0m \u001b[1m12s\u001b[0m 2ms/step - loss: 1527.9958 - mae: 33.8270 - val_loss: 1518.8531 - val_mae: 33.6716\n",
      "Epoch 28/100\n",
      "\u001b[1m7500/7500\u001b[0m \u001b[32m━━━━━━━━━━━━━━━━━━━━\u001b[0m\u001b[37m\u001b[0m \u001b[1m12s\u001b[0m 2ms/step - loss: 1524.8356 - mae: 33.7818 - val_loss: 1518.4698 - val_mae: 33.6747\n",
      "Epoch 29/100\n",
      "\u001b[1m7500/7500\u001b[0m \u001b[32m━━━━━━━━━━━━━━━━━━━━\u001b[0m\u001b[37m\u001b[0m \u001b[1m12s\u001b[0m 2ms/step - loss: 1518.7655 - mae: 33.6847 - val_loss: 1518.5244 - val_mae: 33.6859\n",
      "Epoch 30/100\n",
      "\u001b[1m7500/7500\u001b[0m \u001b[32m━━━━━━━━━━━━━━━━━━━━\u001b[0m\u001b[37m\u001b[0m \u001b[1m12s\u001b[0m 2ms/step - loss: 1531.6552 - mae: 33.8755 - val_loss: 1517.8674 - val_mae: 33.6670\n",
      "Epoch 31/100\n",
      "\u001b[1m7500/7500\u001b[0m \u001b[32m━━━━━━━━━━━━━━━━━━━━\u001b[0m\u001b[37m\u001b[0m \u001b[1m12s\u001b[0m 2ms/step - loss: 1527.2997 - mae: 33.8277 - val_loss: 1519.8531 - val_mae: 33.6885\n",
      "Epoch 32/100\n",
      "\u001b[1m7500/7500\u001b[0m \u001b[32m━━━━━━━━━━━━━━━━━━━━\u001b[0m\u001b[37m\u001b[0m \u001b[1m12s\u001b[0m 2ms/step - loss: 1529.8079 - mae: 33.8574 - val_loss: 1522.7847 - val_mae: 33.6913\n",
      "Epoch 33/100\n",
      "\u001b[1m7500/7500\u001b[0m \u001b[32m━━━━━━━━━━━━━━━━━━━━\u001b[0m\u001b[37m\u001b[0m \u001b[1m12s\u001b[0m 2ms/step - loss: 1527.9998 - mae: 33.8232 - val_loss: 1522.6344 - val_mae: 33.7243\n",
      "Epoch 34/100\n",
      "\u001b[1m7500/7500\u001b[0m \u001b[32m━━━━━━━━━━━━━━━━━━━━\u001b[0m\u001b[37m\u001b[0m \u001b[1m12s\u001b[0m 2ms/step - loss: 1532.1365 - mae: 33.8833 - val_loss: 1522.3853 - val_mae: 33.7296\n",
      "Epoch 35/100\n",
      "\u001b[1m7500/7500\u001b[0m \u001b[32m━━━━━━━━━━━━━━━━━━━━\u001b[0m\u001b[37m\u001b[0m \u001b[1m13s\u001b[0m 2ms/step - loss: 1526.8066 - mae: 33.8215 - val_loss: 1517.1595 - val_mae: 33.6664\n",
      "Epoch 36/100\n",
      "\u001b[1m7500/7500\u001b[0m \u001b[32m━━━━━━━━━━━━━━━━━━━━\u001b[0m\u001b[37m\u001b[0m \u001b[1m12s\u001b[0m 2ms/step - loss: 1525.3635 - mae: 33.7929 - val_loss: 1518.0562 - val_mae: 33.6699\n",
      "Epoch 37/100\n",
      "\u001b[1m7500/7500\u001b[0m \u001b[32m━━━━━━━━━━━━━━━━━━━━\u001b[0m\u001b[37m\u001b[0m \u001b[1m12s\u001b[0m 2ms/step - loss: 1527.5551 - mae: 33.8114 - val_loss: 1524.3247 - val_mae: 33.7318\n",
      "Epoch 38/100\n",
      "\u001b[1m7500/7500\u001b[0m \u001b[32m━━━━━━━━━━━━━━━━━━━━\u001b[0m\u001b[37m\u001b[0m \u001b[1m13s\u001b[0m 2ms/step - loss: 1527.0383 - mae: 33.8128 - val_loss: 1520.9679 - val_mae: 33.6856\n",
      "Epoch 39/100\n",
      "\u001b[1m7500/7500\u001b[0m \u001b[32m━━━━━━━━━━━━━━━━━━━━\u001b[0m\u001b[37m\u001b[0m \u001b[1m12s\u001b[0m 2ms/step - loss: 1526.5214 - mae: 33.8156 - val_loss: 1521.4525 - val_mae: 33.6796\n",
      "Epoch 40/100\n",
      "\u001b[1m7500/7500\u001b[0m \u001b[32m━━━━━━━━━━━━━━━━━━━━\u001b[0m\u001b[37m\u001b[0m \u001b[1m12s\u001b[0m 2ms/step - loss: 1524.2167 - mae: 33.7711 - val_loss: 1519.8315 - val_mae: 33.7063\n",
      "Epoch 41/100\n",
      "\u001b[1m7500/7500\u001b[0m \u001b[32m━━━━━━━━━━━━━━━━━━━━\u001b[0m\u001b[37m\u001b[0m \u001b[1m12s\u001b[0m 2ms/step - loss: 1524.4541 - mae: 33.7780 - val_loss: 1522.3947 - val_mae: 33.6894\n",
      "Epoch 42/100\n",
      "\u001b[1m7500/7500\u001b[0m \u001b[32m━━━━━━━━━━━━━━━━━━━━\u001b[0m\u001b[37m\u001b[0m \u001b[1m12s\u001b[0m 2ms/step - loss: 1523.2784 - mae: 33.7655 - val_loss: 1523.1433 - val_mae: 33.7289\n",
      "Epoch 43/100\n",
      "\u001b[1m7500/7500\u001b[0m \u001b[32m━━━━━━━━━━━━━━━━━━━━\u001b[0m\u001b[37m\u001b[0m \u001b[1m12s\u001b[0m 2ms/step - loss: 1527.4900 - mae: 33.8254 - val_loss: 1529.6483 - val_mae: 33.7343\n",
      "Epoch 44/100\n",
      "\u001b[1m7500/7500\u001b[0m \u001b[32m━━━━━━━━━━━━━━━━━━━━\u001b[0m\u001b[37m\u001b[0m \u001b[1m12s\u001b[0m 2ms/step - loss: 1530.7762 - mae: 33.8928 - val_loss: 1518.6271 - val_mae: 33.6907\n",
      "Epoch 45/100\n",
      "\u001b[1m7500/7500\u001b[0m \u001b[32m━━━━━━━━━━━━━━━━━━━━\u001b[0m\u001b[37m\u001b[0m \u001b[1m13s\u001b[0m 2ms/step - loss: 1520.5753 - mae: 33.7310 - val_loss: 1524.1479 - val_mae: 33.7422\n",
      "Epoch 46/100\n",
      "\u001b[1m7500/7500\u001b[0m \u001b[32m━━━━━━━━━━━━━━━━━━━━\u001b[0m\u001b[37m\u001b[0m \u001b[1m12s\u001b[0m 2ms/step - loss: 1525.5416 - mae: 33.7991 - val_loss: 1519.4363 - val_mae: 33.6998\n",
      "Epoch 47/100\n",
      "\u001b[1m7500/7500\u001b[0m \u001b[32m━━━━━━━━━━━━━━━━━━━━\u001b[0m\u001b[37m\u001b[0m \u001b[1m13s\u001b[0m 2ms/step - loss: 1523.8782 - mae: 33.7655 - val_loss: 1522.4908 - val_mae: 33.7259\n",
      "Epoch 48/100\n",
      "\u001b[1m7500/7500\u001b[0m \u001b[32m━━━━━━━━━━━━━━━━━━━━\u001b[0m\u001b[37m\u001b[0m \u001b[1m12s\u001b[0m 2ms/step - loss: 1523.2122 - mae: 33.7653 - val_loss: 1521.1490 - val_mae: 33.7140\n",
      "Epoch 49/100\n",
      "\u001b[1m7500/7500\u001b[0m \u001b[32m━━━━━━━━━━━━━━━━━━━━\u001b[0m\u001b[37m\u001b[0m \u001b[1m12s\u001b[0m 2ms/step - loss: 1525.0347 - mae: 33.7882 - val_loss: 1518.3683 - val_mae: 33.6632\n",
      "Epoch 50/100\n",
      "\u001b[1m7500/7500\u001b[0m \u001b[32m━━━━━━━━━━━━━━━━━━━━\u001b[0m\u001b[37m\u001b[0m \u001b[1m12s\u001b[0m 2ms/step - loss: 1529.0046 - mae: 33.8425 - val_loss: 1520.7119 - val_mae: 33.6793\n",
      "Epoch 51/100\n",
      "\u001b[1m7500/7500\u001b[0m \u001b[32m━━━━━━━━━━━━━━━━━━━━\u001b[0m\u001b[37m\u001b[0m \u001b[1m12s\u001b[0m 2ms/step - loss: 1524.1227 - mae: 33.7901 - val_loss: 1519.9014 - val_mae: 33.6724\n",
      "Epoch 52/100\n",
      "\u001b[1m7500/7500\u001b[0m \u001b[32m━━━━━━━━━━━━━━━━━━━━\u001b[0m\u001b[37m\u001b[0m \u001b[1m12s\u001b[0m 2ms/step - loss: 1527.7620 - mae: 33.8148 - val_loss: 1518.2428 - val_mae: 33.6742\n",
      "Epoch 53/100\n",
      "\u001b[1m7500/7500\u001b[0m \u001b[32m━━━━━━━━━━━━━━━━━━━━\u001b[0m\u001b[37m\u001b[0m \u001b[1m13s\u001b[0m 2ms/step - loss: 1524.6135 - mae: 33.7889 - val_loss: 1517.0366 - val_mae: 33.6656\n",
      "Epoch 54/100\n",
      "\u001b[1m7500/7500\u001b[0m \u001b[32m━━━━━━━━━━━━━━━━━━━━\u001b[0m\u001b[37m\u001b[0m \u001b[1m12s\u001b[0m 2ms/step - loss: 1521.3452 - mae: 33.7539 - val_loss: 1517.9135 - val_mae: 33.6788\n",
      "Epoch 55/100\n",
      "\u001b[1m7500/7500\u001b[0m \u001b[32m━━━━━━━━━━━━━━━━━━━━\u001b[0m\u001b[37m\u001b[0m \u001b[1m14s\u001b[0m 2ms/step - loss: 1524.6383 - mae: 33.7970 - val_loss: 1519.0728 - val_mae: 33.6735\n",
      "Epoch 56/100\n",
      "\u001b[1m7500/7500\u001b[0m \u001b[32m━━━━━━━━━━━━━━━━━━━━\u001b[0m\u001b[37m\u001b[0m \u001b[1m15s\u001b[0m 2ms/step - loss: 1524.2566 - mae: 33.7738 - val_loss: 1519.4861 - val_mae: 33.6711\n",
      "Epoch 57/100\n",
      "\u001b[1m7500/7500\u001b[0m \u001b[32m━━━━━━━━━━━━━━━━━━━━\u001b[0m\u001b[37m\u001b[0m \u001b[1m15s\u001b[0m 2ms/step - loss: 1524.8966 - mae: 33.8116 - val_loss: 1518.4066 - val_mae: 33.6849\n",
      "Epoch 58/100\n",
      "\u001b[1m7500/7500\u001b[0m \u001b[32m━━━━━━━━━━━━━━━━━━━━\u001b[0m\u001b[37m\u001b[0m \u001b[1m15s\u001b[0m 2ms/step - loss: 1527.2853 - mae: 33.8381 - val_loss: 1520.0842 - val_mae: 33.6864\n",
      "Epoch 59/100\n",
      "\u001b[1m7500/7500\u001b[0m \u001b[32m━━━━━━━━━━━━━━━━━━━━\u001b[0m\u001b[37m\u001b[0m \u001b[1m14s\u001b[0m 2ms/step - loss: 1525.1914 - mae: 33.8066 - val_loss: 1517.1383 - val_mae: 33.6598\n",
      "Epoch 60/100\n",
      "\u001b[1m7500/7500\u001b[0m \u001b[32m━━━━━━━━━━━━━━━━━━━━\u001b[0m\u001b[37m\u001b[0m \u001b[1m12s\u001b[0m 2ms/step - loss: 1521.9668 - mae: 33.7307 - val_loss: 1517.2743 - val_mae: 33.6703\n",
      "Epoch 61/100\n",
      "\u001b[1m7500/7500\u001b[0m \u001b[32m━━━━━━━━━━━━━━━━━━━━\u001b[0m\u001b[37m\u001b[0m \u001b[1m13s\u001b[0m 2ms/step - loss: 1528.4093 - mae: 33.8527 - val_loss: 1519.5564 - val_mae: 33.6915\n",
      "Epoch 62/100\n",
      "\u001b[1m7500/7500\u001b[0m \u001b[32m━━━━━━━━━━━━━━━━━━━━\u001b[0m\u001b[37m\u001b[0m \u001b[1m12s\u001b[0m 2ms/step - loss: 1527.0695 - mae: 33.8282 - val_loss: 1523.1718 - val_mae: 33.6909\n",
      "Epoch 63/100\n",
      "\u001b[1m7500/7500\u001b[0m \u001b[32m━━━━━━━━━━━━━━━━━━━━\u001b[0m\u001b[37m\u001b[0m \u001b[1m12s\u001b[0m 2ms/step - loss: 1526.1156 - mae: 33.8084 - val_loss: 1520.0753 - val_mae: 33.7035\n",
      "Epoch 64/100\n",
      "\u001b[1m7500/7500\u001b[0m \u001b[32m━━━━━━━━━━━━━━━━━━━━\u001b[0m\u001b[37m\u001b[0m \u001b[1m13s\u001b[0m 2ms/step - loss: 1524.8931 - mae: 33.7844 - val_loss: 1526.2112 - val_mae: 33.7641\n",
      "Epoch 65/100\n",
      "\u001b[1m7500/7500\u001b[0m \u001b[32m━━━━━━━━━━━━━━━━━━━━\u001b[0m\u001b[37m\u001b[0m \u001b[1m13s\u001b[0m 2ms/step - loss: 1523.6814 - mae: 33.7908 - val_loss: 1518.3905 - val_mae: 33.6786\n",
      "Epoch 66/100\n",
      "\u001b[1m7500/7500\u001b[0m \u001b[32m━━━━━━━━━━━━━━━━━━━━\u001b[0m\u001b[37m\u001b[0m \u001b[1m13s\u001b[0m 2ms/step - loss: 1524.8232 - mae: 33.7722 - val_loss: 1517.9017 - val_mae: 33.6679\n",
      "Epoch 67/100\n",
      "\u001b[1m7500/7500\u001b[0m \u001b[32m━━━━━━━━━━━━━━━━━━━━\u001b[0m\u001b[37m\u001b[0m \u001b[1m13s\u001b[0m 2ms/step - loss: 1523.3615 - mae: 33.7782 - val_loss: 1519.8040 - val_mae: 33.6945\n",
      "Epoch 68/100\n",
      "\u001b[1m7500/7500\u001b[0m \u001b[32m━━━━━━━━━━━━━━━━━━━━\u001b[0m\u001b[37m\u001b[0m \u001b[1m13s\u001b[0m 2ms/step - loss: 1530.3267 - mae: 33.8633 - val_loss: 1520.6703 - val_mae: 33.6782\n",
      "Epoch 69/100\n",
      "\u001b[1m7500/7500\u001b[0m \u001b[32m━━━━━━━━━━━━━━━━━━━━\u001b[0m\u001b[37m\u001b[0m \u001b[1m13s\u001b[0m 2ms/step - loss: 1530.3658 - mae: 33.8622 - val_loss: 1521.9966 - val_mae: 33.7249\n",
      "Epoch 70/100\n",
      "\u001b[1m7500/7500\u001b[0m \u001b[32m━━━━━━━━━━━━━━━━━━━━\u001b[0m\u001b[37m\u001b[0m \u001b[1m13s\u001b[0m 2ms/step - loss: 1523.5908 - mae: 33.7753 - val_loss: 1518.1053 - val_mae: 33.6768\n",
      "Epoch 71/100\n",
      "\u001b[1m7500/7500\u001b[0m \u001b[32m━━━━━━━━━━━━━━━━━━━━\u001b[0m\u001b[37m\u001b[0m \u001b[1m13s\u001b[0m 2ms/step - loss: 1523.5303 - mae: 33.7726 - val_loss: 1518.9229 - val_mae: 33.6822\n",
      "Epoch 72/100\n",
      "\u001b[1m7500/7500\u001b[0m \u001b[32m━━━━━━━━━━━━━━━━━━━━\u001b[0m\u001b[37m\u001b[0m \u001b[1m13s\u001b[0m 2ms/step - loss: 1523.1760 - mae: 33.7785 - val_loss: 1521.0078 - val_mae: 33.7096\n",
      "Epoch 73/100\n",
      "\u001b[1m7500/7500\u001b[0m \u001b[32m━━━━━━━━━━━━━━━━━━━━\u001b[0m\u001b[37m\u001b[0m \u001b[1m13s\u001b[0m 2ms/step - loss: 1526.8763 - mae: 33.8240 - val_loss: 1522.5696 - val_mae: 33.6870\n",
      "Epoch 74/100\n",
      "\u001b[1m7500/7500\u001b[0m \u001b[32m━━━━━━━━━━━━━━━━━━━━\u001b[0m\u001b[37m\u001b[0m \u001b[1m13s\u001b[0m 2ms/step - loss: 1524.2740 - mae: 33.7919 - val_loss: 1520.5981 - val_mae: 33.7088\n",
      "Epoch 75/100\n",
      "\u001b[1m7500/7500\u001b[0m \u001b[32m━━━━━━━━━━━━━━━━━━━━\u001b[0m\u001b[37m\u001b[0m \u001b[1m13s\u001b[0m 2ms/step - loss: 1525.3514 - mae: 33.8248 - val_loss: 1520.2559 - val_mae: 33.7090\n",
      "Epoch 76/100\n",
      "\u001b[1m7500/7500\u001b[0m \u001b[32m━━━━━━━━━━━━━━━━━━━━\u001b[0m\u001b[37m\u001b[0m \u001b[1m13s\u001b[0m 2ms/step - loss: 1519.4181 - mae: 33.7289 - val_loss: 1521.1520 - val_mae: 33.6815\n",
      "Epoch 77/100\n",
      "\u001b[1m7500/7500\u001b[0m \u001b[32m━━━━━━━━━━━━━━━━━━━━\u001b[0m\u001b[37m\u001b[0m \u001b[1m13s\u001b[0m 2ms/step - loss: 1522.1337 - mae: 33.7654 - val_loss: 1518.0603 - val_mae: 33.6686\n",
      "Epoch 78/100\n",
      "\u001b[1m7500/7500\u001b[0m \u001b[32m━━━━━━━━━━━━━━━━━━━━\u001b[0m\u001b[37m\u001b[0m \u001b[1m13s\u001b[0m 2ms/step - loss: 1529.6547 - mae: 33.8462 - val_loss: 1518.4780 - val_mae: 33.6800\n",
      "Epoch 79/100\n",
      "\u001b[1m7500/7500\u001b[0m \u001b[32m━━━━━━━━━━━━━━━━━━━━\u001b[0m\u001b[37m\u001b[0m \u001b[1m13s\u001b[0m 2ms/step - loss: 1520.9500 - mae: 33.7481 - val_loss: 1519.7316 - val_mae: 33.6728\n",
      "Epoch 80/100\n",
      "\u001b[1m7500/7500\u001b[0m \u001b[32m━━━━━━━━━━━━━━━━━━━━\u001b[0m\u001b[37m\u001b[0m \u001b[1m13s\u001b[0m 2ms/step - loss: 1527.2262 - mae: 33.8293 - val_loss: 1518.1388 - val_mae: 33.6749\n",
      "Epoch 81/100\n",
      "\u001b[1m7500/7500\u001b[0m \u001b[32m━━━━━━━━━━━━━━━━━━━━\u001b[0m\u001b[37m\u001b[0m \u001b[1m13s\u001b[0m 2ms/step - loss: 1519.0028 - mae: 33.7179 - val_loss: 1523.4514 - val_mae: 33.6954\n",
      "Epoch 82/100\n",
      "\u001b[1m7500/7500\u001b[0m \u001b[32m━━━━━━━━━━━━━━━━━━━━\u001b[0m\u001b[37m\u001b[0m \u001b[1m13s\u001b[0m 2ms/step - loss: 1523.1667 - mae: 33.7615 - val_loss: 1518.6238 - val_mae: 33.6721\n",
      "Epoch 83/100\n",
      "\u001b[1m7500/7500\u001b[0m \u001b[32m━━━━━━━━━━━━━━━━━━━━\u001b[0m\u001b[37m\u001b[0m \u001b[1m13s\u001b[0m 2ms/step - loss: 1525.4751 - mae: 33.7944 - val_loss: 1518.0309 - val_mae: 33.6765\n",
      "Epoch 84/100\n",
      "\u001b[1m7500/7500\u001b[0m \u001b[32m━━━━━━━━━━━━━━━━━━━━\u001b[0m\u001b[37m\u001b[0m \u001b[1m13s\u001b[0m 2ms/step - loss: 1527.8289 - mae: 33.8290 - val_loss: 1518.1165 - val_mae: 33.6780\n",
      "Epoch 85/100\n",
      "\u001b[1m7500/7500\u001b[0m \u001b[32m━━━━━━━━━━━━━━━━━━━━\u001b[0m\u001b[37m\u001b[0m \u001b[1m13s\u001b[0m 2ms/step - loss: 1523.0276 - mae: 33.7797 - val_loss: 1518.2472 - val_mae: 33.6780\n",
      "Epoch 86/100\n",
      "\u001b[1m7500/7500\u001b[0m \u001b[32m━━━━━━━━━━━━━━━━━━━━\u001b[0m\u001b[37m\u001b[0m \u001b[1m13s\u001b[0m 2ms/step - loss: 1518.1248 - mae: 33.6986 - val_loss: 1519.1466 - val_mae: 33.6692\n",
      "Epoch 87/100\n",
      "\u001b[1m7500/7500\u001b[0m \u001b[32m━━━━━━━━━━━━━━━━━━━━\u001b[0m\u001b[37m\u001b[0m \u001b[1m13s\u001b[0m 2ms/step - loss: 1528.6819 - mae: 33.8414 - val_loss: 1518.5641 - val_mae: 33.6726\n",
      "Epoch 88/100\n",
      "\u001b[1m7500/7500\u001b[0m \u001b[32m━━━━━━━━━━━━━━━━━━━━\u001b[0m\u001b[37m\u001b[0m \u001b[1m13s\u001b[0m 2ms/step - loss: 1521.6747 - mae: 33.7678 - val_loss: 1522.9755 - val_mae: 33.6940\n",
      "Epoch 89/100\n",
      "\u001b[1m7500/7500\u001b[0m \u001b[32m━━━━━━━━━━━━━━━━━━━━\u001b[0m\u001b[37m\u001b[0m \u001b[1m13s\u001b[0m 2ms/step - loss: 1524.8999 - mae: 33.8049 - val_loss: 1518.7383 - val_mae: 33.6878\n",
      "Epoch 90/100\n",
      "\u001b[1m7500/7500\u001b[0m \u001b[32m━━━━━━━━━━━━━━━━━━━━\u001b[0m\u001b[37m\u001b[0m \u001b[1m13s\u001b[0m 2ms/step - loss: 1523.6686 - mae: 33.7881 - val_loss: 1517.6824 - val_mae: 33.6711\n",
      "Epoch 91/100\n",
      "\u001b[1m7500/7500\u001b[0m \u001b[32m━━━━━━━━━━━━━━━━━━━━\u001b[0m\u001b[37m\u001b[0m \u001b[1m13s\u001b[0m 2ms/step - loss: 1521.2971 - mae: 33.7539 - val_loss: 1518.7155 - val_mae: 33.6878\n",
      "Epoch 92/100\n",
      "\u001b[1m7500/7500\u001b[0m \u001b[32m━━━━━━━━━━━━━━━━━━━━\u001b[0m\u001b[37m\u001b[0m \u001b[1m13s\u001b[0m 2ms/step - loss: 1528.5747 - mae: 33.8573 - val_loss: 1518.0801 - val_mae: 33.6722\n",
      "Epoch 93/100\n",
      "\u001b[1m7500/7500\u001b[0m \u001b[32m━━━━━━━━━━━━━━━━━━━━\u001b[0m\u001b[37m\u001b[0m \u001b[1m13s\u001b[0m 2ms/step - loss: 1521.6691 - mae: 33.7563 - val_loss: 1519.1805 - val_mae: 33.6728\n",
      "Epoch 94/100\n",
      "\u001b[1m7500/7500\u001b[0m \u001b[32m━━━━━━━━━━━━━━━━━━━━\u001b[0m\u001b[37m\u001b[0m \u001b[1m13s\u001b[0m 2ms/step - loss: 1524.2969 - mae: 33.7876 - val_loss: 1519.2820 - val_mae: 33.6819\n",
      "Epoch 95/100\n",
      "\u001b[1m7500/7500\u001b[0m \u001b[32m━━━━━━━━━━━━━━━━━━━━\u001b[0m\u001b[37m\u001b[0m \u001b[1m13s\u001b[0m 2ms/step - loss: 1524.4940 - mae: 33.7939 - val_loss: 1518.8149 - val_mae: 33.6729\n",
      "Epoch 96/100\n",
      "\u001b[1m7500/7500\u001b[0m \u001b[32m━━━━━━━━━━━━━━━━━━━━\u001b[0m\u001b[37m\u001b[0m \u001b[1m13s\u001b[0m 2ms/step - loss: 1526.0422 - mae: 33.8085 - val_loss: 1519.0258 - val_mae: 33.6837\n",
      "Epoch 97/100\n",
      "\u001b[1m7500/7500\u001b[0m \u001b[32m━━━━━━━━━━━━━━━━━━━━\u001b[0m\u001b[37m\u001b[0m \u001b[1m16s\u001b[0m 2ms/step - loss: 1521.3693 - mae: 33.7563 - val_loss: 1521.3824 - val_mae: 33.7137\n",
      "Epoch 98/100\n",
      "\u001b[1m7500/7500\u001b[0m \u001b[32m━━━━━━━━━━━━━━━━━━━━\u001b[0m\u001b[37m\u001b[0m \u001b[1m14s\u001b[0m 2ms/step - loss: 1521.5699 - mae: 33.7512 - val_loss: 1519.5867 - val_mae: 33.6764\n",
      "Epoch 99/100\n",
      "\u001b[1m7500/7500\u001b[0m \u001b[32m━━━━━━━━━━━━━━━━━━━━\u001b[0m\u001b[37m\u001b[0m \u001b[1m13s\u001b[0m 2ms/step - loss: 1525.3398 - mae: 33.8037 - val_loss: 1520.5729 - val_mae: 33.6849\n",
      "Epoch 100/100\n",
      "\u001b[1m7500/7500\u001b[0m \u001b[32m━━━━━━━━━━━━━━━━━━━━\u001b[0m\u001b[37m\u001b[0m \u001b[1m14s\u001b[0m 2ms/step - loss: 1522.7605 - mae: 33.7761 - val_loss: 1518.2147 - val_mae: 33.6777\n"
     ]
    },
    {
     "data": {
      "text/plain": [
       "<keras.src.callbacks.history.History at 0x2c5e17fa000>"
      ]
     },
     "execution_count": 8,
     "metadata": {},
     "output_type": "execute_result"
    }
   ],
   "source": [
    "# Train Neural Network model\n",
    "model.fit(X_train, y_train, epochs=100, batch_size=32, validation_data=(X_val, y_val), verbose=1)"
   ]
  },
  {
   "cell_type": "code",
   "execution_count": 9,
   "metadata": {},
   "outputs": [
    {
     "name": "stdout",
     "output_type": "stream",
     "text": [
      "\u001b[1m1875/1875\u001b[0m \u001b[32m━━━━━━━━━━━━━━━━━━━━\u001b[0m\u001b[37m\u001b[0m \u001b[1m2s\u001b[0m 791us/step\n",
      "Root Mean Squared Error: 38.964272283149704\n"
     ]
    }
   ],
   "source": [
    "# Evaluate model\n",
    "y_pred = model.predict(X_val).flatten()\n",
    "rmse = np.sqrt(mean_squared_error(y_val, y_pred))\n",
    "print(\"Root Mean Squared Error:\", rmse)"
   ]
  },
  {
   "cell_type": "code",
   "execution_count": 10,
   "metadata": {},
   "outputs": [
    {
     "name": "stdout",
     "output_type": "stream",
     "text": [
      "\u001b[1m6250/6250\u001b[0m \u001b[32m━━━━━━━━━━━━━━━━━━━━\u001b[0m\u001b[37m\u001b[0m \u001b[1m5s\u001b[0m 741us/step\n"
     ]
    }
   ],
   "source": [
    "# Predict on test data\n",
    "test_preds = model.predict(test_X).flatten()"
   ]
  },
  {
   "cell_type": "code",
   "execution_count": 11,
   "metadata": {},
   "outputs": [
    {
     "name": "stdout",
     "output_type": "stream",
     "text": [
      "Submission file created successfully.\n"
     ]
    }
   ],
   "source": [
    "# Prepare submission file\n",
    "submission = pd.DataFrame({'id': test_df['id'], 'Price': test_preds})\n",
    "submission.to_csv(\"NN01.csv\", index=False)\n",
    "\n",
    "print(\"Submission file created successfully.\")"
   ]
  }
 ],
 "metadata": {
  "kernelspec": {
   "display_name": ".venv",
   "language": "python",
   "name": "python3"
  },
  "language_info": {
   "codemirror_mode": {
    "name": "ipython",
    "version": 3
   },
   "file_extension": ".py",
   "mimetype": "text/x-python",
   "name": "python",
   "nbconvert_exporter": "python",
   "pygments_lexer": "ipython3",
   "version": "3.12.7"
  }
 },
 "nbformat": 4,
 "nbformat_minor": 2
}
