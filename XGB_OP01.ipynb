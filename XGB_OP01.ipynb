{
 "cells": [
  {
   "cell_type": "markdown",
   "metadata": {},
   "source": [
    "<h2>XGB_OP01 Submission 01 ()</h2>"
   ]
  },
  {
   "cell_type": "code",
   "execution_count": null,
   "metadata": {},
   "outputs": [],
   "source": [
    "import pandas as pd\n",
    "import numpy as np\n",
    "import optuna\n",
    "import xgboost as xgb\n",
    "from sklearn.model_selection import train_test_split\n",
    "from sklearn.preprocessing import LabelEncoder\n",
    "from sklearn.metrics import mean_squared_error"
   ]
  },
  {
   "cell_type": "code",
   "execution_count": null,
   "metadata": {},
   "outputs": [],
   "source": [
    "# Load datasets\n",
    "train_df = pd.read_csv(\"train.csv\")\n",
    "test_df = pd.read_csv(\"test.csv\")"
   ]
  },
  {
   "cell_type": "code",
   "execution_count": null,
   "metadata": {},
   "outputs": [],
   "source": [
    "# Handle missing values\n",
    "train_df.fillna(train_df.mode().iloc[0], inplace=True)\n",
    "test_df.fillna(test_df.mode().iloc[0], inplace=True)"
   ]
  },
  {
   "cell_type": "code",
   "execution_count": null,
   "metadata": {},
   "outputs": [],
   "source": [
    "# Encode categorical features\n",
    "encoder = LabelEncoder()\n",
    "categorical_cols = ['Brand', 'Material', 'Size', 'Laptop Compartment', 'Waterproof', 'Style', 'Color']\n",
    "\n",
    "for col in categorical_cols:\n",
    "    train_df[col] = encoder.fit_transform(train_df[col])\n",
    "    test_df[col] = encoder.transform(test_df[col])"
   ]
  },
  {
   "cell_type": "code",
   "execution_count": null,
   "metadata": {},
   "outputs": [],
   "source": [
    "# Selecting features and target\n",
    "X = train_df.drop(columns=['id', 'Price'])\n",
    "y = train_df['Price']\n",
    "X_train, X_val, y_train, y_val = train_test_split(X, y, test_size=0.2, random_state=42)"
   ]
  },
  {
   "cell_type": "code",
   "execution_count": null,
   "metadata": {},
   "outputs": [],
   "source": [
    "# Optuna optimization function\n",
    "def objective(trial):\n",
    "    params = {\n",
    "        'objective': 'reg:squarederror',\n",
    "        'n_estimators': trial.suggest_int('n_estimators', 100, 1000),\n",
    "        'learning_rate': trial.suggest_float('learning_rate', 0.01, 0.3),\n",
    "        'max_depth': trial.suggest_int('max_depth', 3, 10),\n",
    "        'subsample': trial.suggest_float('subsample', 0.5, 1.0),\n",
    "        'colsample_bytree': trial.suggest_float('colsample_bytree', 0.5, 1.0),\n",
    "    }\n",
    "    model = xgb.XGBRegressor(**params)\n",
    "    model.fit(X_train, y_train)\n",
    "    y_pred = model.predict(X_val)\n",
    "    mse = mean_squared_error(y_val, y_pred)\n",
    "    return np.sqrt(mse)\n",
    "\n",
    "study = optuna.create_study(direction='minimize')\n",
    "study.optimize(objective, n_trials=20)"
   ]
  },
  {
   "cell_type": "code",
   "execution_count": null,
   "metadata": {},
   "outputs": [],
   "source": [
    "# Train best model\n",
    "best_params = study.best_params\n",
    "model = xgb.XGBRegressor(**best_params)\n",
    "model.fit(X_train, y_train)"
   ]
  },
  {
   "cell_type": "code",
   "execution_count": null,
   "metadata": {},
   "outputs": [],
   "source": [
    "# Evaluate model\n",
    "y_pred = model.predict(X_val)\n",
    "mse = mean_squared_error(y_val, y_pred)\n",
    "rmse = np.sqrt(mse)\n",
    "print(\"Root Mean Squared Error:\", rmse)"
   ]
  },
  {
   "cell_type": "code",
   "execution_count": null,
   "metadata": {},
   "outputs": [],
   "source": [
    "# Predict on test data\n",
    "test_X = test_df.drop(columns=['id'])\n",
    "test_preds = model.predict(test_X)"
   ]
  },
  {
   "cell_type": "code",
   "execution_count": null,
   "metadata": {},
   "outputs": [
    {
     "name": "stdout",
     "output_type": "stream",
     "text": [
      "Train Data Info:\n",
      "<class 'pandas.core.frame.DataFrame'>\n",
      "RangeIndex: 300000 entries, 0 to 299999\n",
      "Data columns (total 11 columns):\n",
      " #   Column                Non-Null Count   Dtype  \n",
      "---  ------                --------------   -----  \n",
      " 0   id                    300000 non-null  int64  \n",
      " 1   Brand                 290295 non-null  object \n",
      " 2   Material              291653 non-null  object \n",
      " 3   Size                  293405 non-null  object \n",
      " 4   Compartments          300000 non-null  float64\n",
      " 5   Laptop Compartment    292556 non-null  object \n",
      " 6   Waterproof            292950 non-null  object \n",
      " 7   Style                 292030 non-null  object \n",
      " 8   Color                 290050 non-null  object \n",
      " 9   Weight Capacity (kg)  299862 non-null  float64\n",
      " 10  Price                 300000 non-null  float64\n",
      "dtypes: float64(3), int64(1), object(7)\n",
      "memory usage: 25.2+ MB\n",
      "None\n",
      "\n",
      "Train Data Description:\n",
      "                  id   Compartments  Weight Capacity (kg)          Price\n",
      "count  300000.000000  300000.000000         299862.000000  300000.000000\n",
      "mean   149999.500000       5.443590             18.029994      81.411107\n",
      "std     86602.684716       2.890766              6.966914      39.039340\n",
      "min         0.000000       1.000000              5.000000      15.000000\n",
      "25%     74999.750000       3.000000             12.097867      47.384620\n",
      "50%    149999.500000       5.000000             18.068614      80.956120\n",
      "75%    224999.250000       8.000000             24.002375     115.018160\n",
      "max    299999.000000      10.000000             30.000000     150.000000\n",
      "\n",
      "Missing Values in Train Data:\n",
      "id                         0\n",
      "Brand                   9705\n",
      "Material                8347\n",
      "Size                    6595\n",
      "Compartments               0\n",
      "Laptop Compartment      7444\n",
      "Waterproof              7050\n",
      "Style                   7970\n",
      "Color                   9950\n",
      "Weight Capacity (kg)     138\n",
      "Price                      0\n",
      "dtype: int64\n"
     ]
    },
    {
     "data": {
      "image/png": "[encoded data removed]",
      "text/plain": [
       "<Figure size 640x480 with 1 Axes>"
      ]
     },
     "metadata": {},
     "output_type": "display_data"
    },
    {
     "name": "stderr",
     "output_type": "stream",
     "text": [
      "[I 2025-02-11 14:14:55,811] A new study created in memory with name: no-name-15e78b7a-50e8-477f-bbc7-d6bf0959be7f\n",
      "[I 2025-02-11 14:15:01,032] Trial 0 finished with value: 38.92228051700631 and parameters: {'n_estimators': 459, 'learning_rate': 0.01008420906693564, 'max_depth': 7, 'subsample': 0.9652322856390967, 'colsample_bytree': 0.5550341266159431}. Best is trial 0 with value: 38.92228051700631.\n",
      "[I 2025-02-11 14:15:03,045] Trial 1 finished with value: 39.133357283555036 and parameters: {'n_estimators': 174, 'learning_rate': 0.14450404872203493, 'max_depth': 7, 'subsample': 0.6442735049962447, 'colsample_bytree': 0.6761697334563466}. Best is trial 0 with value: 38.92228051700631.\n",
      "[I 2025-02-11 14:15:08,407] Trial 2 finished with value: 39.222402260715924 and parameters: {'n_estimators': 532, 'learning_rate': 0.1801800931500346, 'max_depth': 6, 'subsample': 0.741260323697708, 'colsample_bytree': 0.6483826658190646}. Best is trial 0 with value: 38.92228051700631.\n",
      "[I 2025-02-11 14:15:17,364] Trial 3 finished with value: 39.97499016783784 and parameters: {'n_estimators': 376, 'learning_rate': 0.11417028516862283, 'max_depth': 10, 'subsample': 0.7311950789336639, 'colsample_bytree': 0.6377577661011966}. Best is trial 0 with value: 38.92228051700631.\n",
      "[I 2025-02-11 14:15:32,529] Trial 4 finished with value: 40.39675986210969 and parameters: {'n_estimators': 915, 'learning_rate': 0.1812755965041555, 'max_depth': 7, 'subsample': 0.601324292877452, 'colsample_bytree': 0.99638298505373}. Best is trial 0 with value: 38.92228051700631.\n",
      "[I 2025-02-11 14:15:47,786] Trial 5 finished with value: 43.29721790429419 and parameters: {'n_estimators': 738, 'learning_rate': 0.2754506589887557, 'max_depth': 9, 'subsample': 0.9147702560748447, 'colsample_bytree': 0.8558705944628224}. Best is trial 0 with value: 38.92228051700631.\n",
      "[I 2025-02-11 14:15:56,936] Trial 6 finished with value: 39.35532070469468 and parameters: {'n_estimators': 440, 'learning_rate': 0.044462445658847737, 'max_depth': 9, 'subsample': 0.8383866954965404, 'colsample_bytree': 0.9092327756956189}. Best is trial 0 with value: 38.92228051700631.\n",
      "[I 2025-02-11 14:16:14,157] Trial 7 finished with value: 40.2614663880158 and parameters: {'n_estimators': 831, 'learning_rate': 0.07586576751165858, 'max_depth': 9, 'subsample': 0.5269017914256909, 'colsample_bytree': 0.7414706076438563}. Best is trial 0 with value: 38.92228051700631.\n",
      "[I 2025-02-11 14:16:24,758] Trial 8 finished with value: 39.14905145776627 and parameters: {'n_estimators': 795, 'learning_rate': 0.13585396944532033, 'max_depth': 5, 'subsample': 0.7831292693697383, 'colsample_bytree': 0.9596733487333411}. Best is trial 0 with value: 38.92228051700631.\n",
      "[I 2025-02-11 14:16:28,522] Trial 9 finished with value: 38.941500006072715 and parameters: {'n_estimators': 229, 'learning_rate': 0.05808155515415547, 'max_depth': 6, 'subsample': 0.7858693933125604, 'colsample_bytree': 0.576336756690608}. Best is trial 0 with value: 38.92228051700631.\n",
      "[I 2025-02-11 14:16:35,231] Trial 10 finished with value: 38.91369496561856 and parameters: {'n_estimators': 612, 'learning_rate': 0.013510291857822439, 'max_depth': 3, 'subsample': 0.9867737337086774, 'colsample_bytree': 0.5216170538006294}. Best is trial 10 with value: 38.91369496561856.\n",
      "[I 2025-02-11 14:16:42,089] Trial 11 finished with value: 38.914175847708435 and parameters: {'n_estimators': 613, 'learning_rate': 0.011581801317473384, 'max_depth': 3, 'subsample': 0.9968474328320667, 'colsample_bytree': 0.5184144160352666}. Best is trial 10 with value: 38.91369496561856.\n",
      "[I 2025-02-11 14:16:49,645] Trial 12 finished with value: 38.91276419223391 and parameters: {'n_estimators': 658, 'learning_rate': 0.019864995104230437, 'max_depth': 3, 'subsample': 0.992668336066155, 'colsample_bytree': 0.5085496449312212}. Best is trial 12 with value: 38.91276419223391.\n",
      "[I 2025-02-11 14:16:56,957] Trial 13 finished with value: 38.921523967200926 and parameters: {'n_estimators': 652, 'learning_rate': 0.0866347445282889, 'max_depth': 3, 'subsample': 0.8988795260416403, 'colsample_bytree': 0.5067073413475185}. Best is trial 12 with value: 38.91276419223391.\n",
      "[I 2025-02-11 14:17:06,330] Trial 14 finished with value: 39.07801482198383 and parameters: {'n_estimators': 674, 'learning_rate': 0.25533926008331903, 'max_depth': 4, 'subsample': 0.9007315659231185, 'colsample_bytree': 0.7806008799799897}. Best is trial 12 with value: 38.91276419223391.\n",
      "[I 2025-02-11 14:17:11,458] Trial 15 finished with value: 38.91693533083432 and parameters: {'n_estimators': 352, 'learning_rate': 0.03293481583530487, 'max_depth': 4, 'subsample': 0.9938193466832931, 'colsample_bytree': 0.5928110210153587}. Best is trial 12 with value: 38.91276419223391.\n",
      "[I 2025-02-11 14:17:19,585] Trial 16 finished with value: 38.95450508605172 and parameters: {'n_estimators': 541, 'learning_rate': 0.0913142477746387, 'max_depth': 4, 'subsample': 0.8515362212606983, 'colsample_bytree': 0.7053243519880528}. Best is trial 12 with value: 38.91276419223391.\n",
      "[I 2025-02-11 14:17:32,228] Trial 17 finished with value: 38.99499314374479 and parameters: {'n_estimators': 962, 'learning_rate': 0.2251189044365224, 'max_depth': 3, 'subsample': 0.9392595316269071, 'colsample_bytree': 0.803661609998209}. Best is trial 12 with value: 38.91276419223391.\n",
      "[I 2025-02-11 14:17:45,999] Trial 18 finished with value: 38.96332576544262 and parameters: {'n_estimators': 858, 'learning_rate': 0.042442956328719146, 'max_depth': 5, 'subsample': 0.851171084908682, 'colsample_bytree': 0.6074300337774011}. Best is trial 12 with value: 38.91276419223391.\n",
      "[I 2025-02-11 14:17:57,474] Trial 19 finished with value: 38.99166986062672 and parameters: {'n_estimators': 701, 'learning_rate': 0.09722117632962463, 'max_depth': 5, 'subsample': 0.94766253344736, 'colsample_bytree': 0.5006226783744077}. Best is trial 12 with value: 38.91276419223391.\n"
     ]
    },
    {
     "name": "stdout",
     "output_type": "stream",
     "text": [
      "Root Mean Squared Error: 38.91276419223391\n",
      "Submission file created successfully.\n"
     ]
    }
   ],
   "source": [
    "# Prepare submission file\n",
    "submission = pd.DataFrame({'id': test_df['id'], 'Price': test_preds})\n",
    "submission.to_csv(\"XGB_OP01.csv\", index=False)\n",
    "\n",
    "print(\"Submission file created successfully.\")"
   ]
  }
 ],
 "metadata": {
  "kernelspec": {
   "display_name": ".venv",
   "language": "python",
   "name": "python3"
  },
  "language_info": {
   "codemirror_mode": {
    "name": "ipython",
    "version": 3
   },
   "file_extension": ".py",
   "mimetype": "text/x-python",
   "name": "python",
   "nbconvert_exporter": "python",
   "pygments_lexer": "ipython3",
   "version": "3.12.7"
  }
 },
 "nbformat": 4,
 "nbformat_minor": 2
}
